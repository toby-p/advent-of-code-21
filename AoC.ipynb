{
 "cells": [
  {
   "cell_type": "code",
   "execution_count": 1,
   "id": "9ca46170",
   "metadata": {},
   "outputs": [],
   "source": [
    "\n",
    "import numpy as np\n",
    "import os\n",
    "import pandas as pd\n",
    "\n",
    "\n",
    "def get_input_csv(day: int):\n",
    "    fp = os.path.join(os.getcwd(), \"inputs\", f\"day{day}.csv\")\n",
    "    return pd.read_csv(fp, encoding=\"utf-8\", header=None).rename(columns={0: \"data\"})\n",
    "\n",
    "\n",
    "def get_input_text(day: int):\n",
    "    fp = os.path.join(os.getcwd(), \"inputs\", f\"day{day}.txt\")\n",
    "    with open(fp, \"r\") as f:\n",
    "        return [s.replace(\"\\n\", \"\") for s in f.readlines()]"
   ]
  },
  {
   "cell_type": "markdown",
   "id": "dde0a07b",
   "metadata": {},
   "source": [
    "## Day 1"
   ]
  },
  {
   "cell_type": "code",
   "execution_count": 2,
   "id": "29309ebf",
   "metadata": {},
   "outputs": [
    {
     "data": {
      "text/plain": [
       "[151, 152, 153, 158, 159, 163, 164, 162, 161, 167]"
      ]
     },
     "execution_count": 2,
     "metadata": {},
     "output_type": "execute_result"
    }
   ],
   "source": [
    "# Input:\n",
    "data = get_input_csv(1)\n",
    "data = list(data[\"data\"].values)\n",
    "data[:10]"
   ]
  },
  {
   "cell_type": "code",
   "execution_count": 3,
   "id": "319f210d",
   "metadata": {},
   "outputs": [
    {
     "data": {
      "text/plain": [
       "1564"
      ]
     },
     "execution_count": 3,
     "metadata": {},
     "output_type": "execute_result"
    }
   ],
   "source": [
    "# Q1 solution:\n",
    "answer = len(list(filter(lambda x: x[1] > data[x[0]], list(enumerate(data[1:])))))\n",
    "answer"
   ]
  },
  {
   "cell_type": "code",
   "execution_count": 4,
   "id": "9e3ece30",
   "metadata": {},
   "outputs": [
    {
     "data": {
      "text/plain": [
       "1611"
      ]
     },
     "execution_count": 4,
     "metadata": {},
     "output_type": "execute_result"
    }
   ],
   "source": [
    "# Q2 solution:\n",
    "answer = len(list(filter(lambda ix: sum(data[ix-3: ix]) < sum(data[ix-2: ix+1]), range(3, len(data), 1))))\n",
    "answer"
   ]
  },
  {
   "cell_type": "markdown",
   "id": "aa17c057",
   "metadata": {},
   "source": [
    "## Day 2"
   ]
  },
  {
   "cell_type": "code",
   "execution_count": 5,
   "id": "ed4ca2fb",
   "metadata": {},
   "outputs": [
    {
     "data": {
      "text/plain": [
       "['forward 3',\n",
       " 'down 6',\n",
       " 'forward 7',\n",
       " 'down 4',\n",
       " 'down 8',\n",
       " 'down 6',\n",
       " 'down 4',\n",
       " 'down 6',\n",
       " 'forward 7',\n",
       " 'down 5']"
      ]
     },
     "execution_count": 5,
     "metadata": {},
     "output_type": "execute_result"
    }
   ],
   "source": [
    "# Input:\n",
    "data = get_input_csv(2)\n",
    "data = list(data[\"data\"].values)\n",
    "data[:10]"
   ]
  },
  {
   "cell_type": "code",
   "execution_count": 6,
   "id": "30b62fd6",
   "metadata": {},
   "outputs": [
    {
     "data": {
      "text/plain": [
       "1924923"
      ]
     },
     "execution_count": 6,
     "metadata": {},
     "output_type": "execute_result"
    }
   ],
   "source": [
    "# Q1 solution - needlessly compact 3 liner:\n",
    "h, d = 0, 0\n",
    "[exec({\"f\": \"global h;h= h+int(i)\", \"d\": \"global d;d+=int(i)\", \"u\": \"global d;d-=int(i)\"}[dr[0]]) for dr, i in map(str.split, data)]\n",
    "answer = h*d\n",
    "answer"
   ]
  },
  {
   "cell_type": "code",
   "execution_count": 7,
   "id": "f8294279",
   "metadata": {},
   "outputs": [
    {
     "data": {
      "text/plain": [
       "1924923"
      ]
     },
     "execution_count": 7,
     "metadata": {},
     "output_type": "execute_result"
    }
   ],
   "source": [
    "# Q1 solution - slightly less needlessly compact 4 liner:\n",
    "h, d = 0, 0\n",
    "for dct in [{\"f\": {\"h\": int(i)}, \"d\": {\"d\": int(i)}, \"u\": {\"d\": -int(i)}}[s[0]] for s, i in map(str.split, data)]:\n",
    "    h += dct.get(\"h\", 0)\n",
    "    d += dct.get(\"d\", 0)\n",
    "answer = h*d\n",
    "answer"
   ]
  },
  {
   "cell_type": "code",
   "execution_count": 8,
   "id": "a9cbf510",
   "metadata": {},
   "outputs": [
    {
     "data": {
      "text/plain": [
       "1924923"
      ]
     },
     "execution_count": 8,
     "metadata": {},
     "output_type": "execute_result"
    }
   ],
   "source": [
    "# Q1 solution - reduce:\n",
    "from functools import reduce\n",
    "\n",
    "iterable = [{\"f\": {\"h\": int(i)}, \"d\": {\"d\": int(i)}, \"u\": {\"d\": -int(i)}}[s[0]] for s, i in map(str.split, data)]\n",
    "d = reduce(lambda x, y: x + y.get(\"d\", 0), iterable, 0)\n",
    "h = reduce(lambda x, y: x + y.get(\"h\", 0), iterable, 0)\n",
    "answer = h*d\n",
    "answer"
   ]
  },
  {
   "cell_type": "code",
   "execution_count": 9,
   "id": "9a4d6274",
   "metadata": {},
   "outputs": [
    {
     "data": {
      "text/plain": [
       "1924923"
      ]
     },
     "execution_count": 9,
     "metadata": {},
     "output_type": "execute_result"
    }
   ],
   "source": [
    "# Q1 solution - recursion:\n",
    "def recursion(seq, h=0, d=0):\n",
    "    if len(seq):\n",
    "        s, i = seq[0].split()\n",
    "        dct = {\"f\": {\"h\": int(i)}, \"d\": {\"d\": int(i)}, \"u\": {\"d\": -int(i)}}[s[0]]\n",
    "        h += dct.get(\"h\", 0)\n",
    "        d += dct.get(\"d\", 0)\n",
    "        return recursion(seq[1:], h, d)\n",
    "    else:\n",
    "        return h * d\n",
    "        \n",
    "        \n",
    "answer = recursion(data)\n",
    "answer"
   ]
  },
  {
   "cell_type": "code",
   "execution_count": 10,
   "id": "8015416f",
   "metadata": {},
   "outputs": [
    {
     "data": {
      "text/plain": [
       "1982495697"
      ]
     },
     "execution_count": 10,
     "metadata": {},
     "output_type": "execute_result"
    }
   ],
   "source": [
    "# Q2 solution - basic brute force:\n",
    "h, d, a = 0, 0, 0\n",
    "for s, i in map(str.split, data):\n",
    "    if s[0] == \"f\":\n",
    "        h += int(i)\n",
    "        d += a*int(i)\n",
    "    elif s[0] == \"d\":\n",
    "        a += int(i)\n",
    "    elif s[0] == \"u\":\n",
    "        a -= int(i)\n",
    "\n",
    "answer = h*d\n",
    "answer"
   ]
  },
  {
   "cell_type": "markdown",
   "id": "7cccf041",
   "metadata": {},
   "source": [
    "## Day 3"
   ]
  },
  {
   "cell_type": "code",
   "execution_count": 11,
   "id": "56fe2132",
   "metadata": {},
   "outputs": [
    {
     "data": {
      "text/plain": [
       "['000100011010',\n",
       " '110011110110',\n",
       " '011000101111',\n",
       " '001101100101',\n",
       " '011100001000',\n",
       " '101101011011',\n",
       " '101111010101',\n",
       " '011010000101',\n",
       " '010101000010',\n",
       " '100001111000']"
      ]
     },
     "execution_count": 11,
     "metadata": {},
     "output_type": "execute_result"
    }
   ],
   "source": [
    "# Input:\n",
    "data = get_input_text(3)\n",
    "data[:10]"
   ]
  },
  {
   "cell_type": "code",
   "execution_count": 12,
   "id": "bab78b47",
   "metadata": {},
   "outputs": [
    {
     "data": {
      "text/plain": [
       "2595824"
      ]
     },
     "execution_count": 12,
     "metadata": {},
     "output_type": "execute_result"
    }
   ],
   "source": [
    "# Q1 - Basic solution:\n",
    "zeroes_ones = [[0, 0] for s in range(len(data[0]))]\n",
    "for s in data:\n",
    "    for i, num in enumerate(s):\n",
    "        if num == \"0\":\n",
    "            zeroes_ones[i][0] += 1\n",
    "        else:\n",
    "            zeroes_ones[i][1] += 1\n",
    "\n",
    "gamma = \"\".join([str(int(max(l) == l[1])) for l in zeroes_ones])\n",
    "epsilon = \"\".join([\"1\" if i ==\"0\" else \"0\" for i in gamma])\n",
    "\n",
    "answer = int(gamma, 2) * int(epsilon, 2)\n",
    "answer"
   ]
  },
  {
   "cell_type": "code",
   "execution_count": 13,
   "id": "79caef86",
   "metadata": {},
   "outputs": [
    {
     "data": {
      "text/plain": [
       "2135254"
      ]
     },
     "execution_count": 13,
     "metadata": {},
     "output_type": "execute_result"
    }
   ],
   "source": [
    "# Q2 - Basic solution:\n",
    "\n",
    "ox, co2 = None, None\n",
    "oxs, co2s = data.copy(), data.copy()\n",
    "\n",
    "for pos in range(len(data[0])):\n",
    "    \n",
    "    if ox is None:\n",
    "        ox_zero_count = len(list(filter(lambda s: s[pos] == \"0\", oxs)))\n",
    "        ox_one_count = len(oxs) - ox_zero_count\n",
    "        ox_num = int(ox_one_count >= ox_zero_count)\n",
    "        oxs = list(filter(lambda s: s[pos] == str(ox_num), oxs))\n",
    "        if len(oxs) == 1:\n",
    "            ox = int(oxs[0], 2)\n",
    "    \n",
    "    if co2 is None:\n",
    "        co2_zero_count = len(list(filter(lambda s: s[pos] == \"0\", co2s)))\n",
    "        co2_one_count = len(co2s) - co2_zero_count\n",
    "        co2_num = int(co2_zero_count > co2_one_count)\n",
    "        co2s = list(filter(lambda s: s[pos] == str(co2_num), co2s))\n",
    "        if len(co2s) == 1:\n",
    "            co2 = int(co2s[0], 2)\n",
    "\n",
    "answer = ox * co2\n",
    "answer"
   ]
  },
  {
   "cell_type": "markdown",
   "id": "015d054c",
   "metadata": {},
   "source": [
    "## Day 4"
   ]
  },
  {
   "cell_type": "code",
   "execution_count": 14,
   "id": "2b43ca79",
   "metadata": {},
   "outputs": [],
   "source": [
    "# Parse data:\n",
    "fp = os.path.join(os.getcwd(), \"inputs\", f\"day4.txt\")\n",
    "with open(fp, \"r\") as f:\n",
    "    data = f.readlines()\n",
    "order = [int(i) for i in data[0].split(\",\")]\n",
    "\n",
    "boards = list()\n",
    "rows = list()\n",
    "for line in data[1:]:\n",
    "    if len(rows) == 5:\n",
    "        boards.append(pd.DataFrame(rows))\n",
    "    if line == \"\\n\":\n",
    "        rows = list()\n",
    "    else:\n",
    "        rows.append([int(i) for i in line.split()])\n"
   ]
  },
  {
   "cell_type": "code",
   "execution_count": 15,
   "id": "aa90638c",
   "metadata": {},
   "outputs": [
    {
     "data": {
      "text/plain": [
       "25410"
      ]
     },
     "execution_count": 15,
     "metadata": {},
     "output_type": "execute_result"
    }
   ],
   "source": [
    "# Q1 - brute force solution:\n",
    "bingo = False\n",
    "for last in range(5, len(order), 1):\n",
    "    nums = order[:last]\n",
    "    for board in boards:\n",
    "        on_board = [1 if i in nums else 0 for i in board.values.flatten()]\n",
    "        marked = pd.DataFrame(np.array(on_board).reshape(5, 5))\n",
    "        bingo = (5 in marked.sum(axis=1).values) or (5 in marked.sum(axis=0).values)\n",
    "        if bingo:\n",
    "            mask = marked.astype(bool)\n",
    "            unmarked_sum = board[~mask].sum().sum()\n",
    "            break\n",
    "    if bingo:\n",
    "        break\n",
    "\n",
    "answer = int(unmarked_sum * order[last-1])\n",
    "answer"
   ]
  },
  {
   "cell_type": "code",
   "execution_count": 16,
   "id": "5aa26e64",
   "metadata": {},
   "outputs": [
    {
     "data": {
      "text/plain": [
       "2730"
      ]
     },
     "execution_count": 16,
     "metadata": {},
     "output_type": "execute_result"
    }
   ],
   "source": [
    "# Q2 - brute force solution:\n",
    "bingo = False\n",
    "boards_completed = list()\n",
    "last_called = -1\n",
    "for last in range(5, len(order), 1):\n",
    "    nums = order[:last]\n",
    "    for i, board in enumerate(boards):\n",
    "        if i not in boards_completed:\n",
    "            on_board = [1 if i in nums else 0 for i in board.values.flatten()]\n",
    "            marked = pd.DataFrame(np.array(on_board).reshape(5, 5))\n",
    "            bingo = (5 in marked.sum(axis=1).values) or (5 in marked.sum(axis=0).values)\n",
    "            if bingo:\n",
    "                mask = marked.astype(bool)\n",
    "                unmarked_sum = board[~mask].sum().sum()\n",
    "                boards_completed.append(i)\n",
    "    if len(boards_completed) == len(boards):\n",
    "        break\n",
    "\n",
    "answer = int(unmarked_sum * nums[-1])\n",
    "answer"
   ]
  },
  {
   "cell_type": "markdown",
   "id": "8f786e48",
   "metadata": {},
   "source": [
    "## Day 5"
   ]
  },
  {
   "cell_type": "code",
   "execution_count": 17,
   "id": "3ac64936",
   "metadata": {},
   "outputs": [],
   "source": [
    "# Full data:\n",
    "data = get_input_text(5)\n",
    "data[:10]\n",
    "\n",
    "# # Sample:\n",
    "# data = \"\"\"0,9 -> 5,9\n",
    "# 8,0 -> 0,8\n",
    "# 9,4 -> 3,4\n",
    "# 2,2 -> 2,1\n",
    "# 7,0 -> 7,4\n",
    "# 6,4 -> 2,0\n",
    "# 0,9 -> 2,9\n",
    "# 3,4 -> 1,4\n",
    "# 0,0 -> 8,8\n",
    "# 5,5 -> 8,2\"\"\".split(\"\\n\")\n",
    "\n",
    "x1s = [int(s.split(\",\")[0]) for s in data]\n",
    "y1s = [int(s.split(\",\")[1].split()[0]) for s in data]\n",
    "x2s = [int(s.split(\"->\")[1].split(\",\")[0]) for s in data]\n",
    "y2s = [int(s.split(\"->\")[1].split(\",\")[1]) for s in data]"
   ]
  },
  {
   "cell_type": "code",
   "execution_count": 18,
   "id": "5d54fc15",
   "metadata": {},
   "outputs": [
    {
     "data": {
      "text/plain": [
       "7473"
      ]
     },
     "execution_count": 18,
     "metadata": {},
     "output_type": "execute_result"
    }
   ],
   "source": [
    "# Q1 - pandas solution:\n",
    "xmax = max(x1s+x2s)\n",
    "ymax = max(y1s+y2s)\n",
    "df = pd.DataFrame(0, index=range(ymax+1), columns=range(xmax+1))\n",
    "for (x1, y1, x2, y2) in zip(x1s, y1s, x2s, y2s):\n",
    "    if x1 == x2 or y1 == y2:\n",
    "        x1, x2 = sorted([x1, x2])\n",
    "        y1, y2 = sorted([y1, y2])\n",
    "        df.iloc[y1:y2+1, x1:x2+1] = df.iloc[y1:y2+1, x1:x2+1].values + 1\n",
    "values = df.stack()\n",
    "answer = len(values[values > 1])\n",
    "answer"
   ]
  },
  {
   "cell_type": "code",
   "execution_count": 19,
   "id": "a6ddf42e",
   "metadata": {},
   "outputs": [
    {
     "data": {
      "text/plain": [
       "24164"
      ]
     },
     "execution_count": 19,
     "metadata": {},
     "output_type": "execute_result"
    }
   ],
   "source": [
    "# Q2 brute force solution:\n",
    "xmax = max(x1s+x2s)\n",
    "ymax = max(y1s+y2s)\n",
    "df = pd.DataFrame(0, index=range(ymax+1), columns=range(xmax+1))\n",
    "for (x1, y1, x2, y2) in zip(x1s, y1s, x2s, y2s):\n",
    "    if x1 < x2:\n",
    "        x_step = 1\n",
    "    elif x1 > x2:\n",
    "        x_step = -1\n",
    "    else:\n",
    "        x_step = 0\n",
    "    if y1 < y2:\n",
    "        y_step = 1\n",
    "    elif y1 > y2:\n",
    "        y_step = -1\n",
    "    else:\n",
    "        y_step = 0\n",
    "    \n",
    "    drawn = False\n",
    "    while not drawn:\n",
    "        df.iloc[y1, x1] = df.iloc[y1, x1] + 1\n",
    "        if (x1 == x2) and (y1 == y2):\n",
    "            drawn = True\n",
    "        x1 += x_step\n",
    "        y1 += y_step\n",
    "        \n",
    "values = df.stack()\n",
    "answer = len(values[values > 1])\n",
    "answer"
   ]
  },
  {
   "cell_type": "markdown",
   "id": "49b8345e",
   "metadata": {},
   "source": [
    "## Day 6"
   ]
  },
  {
   "cell_type": "code",
   "execution_count": 20,
   "id": "e9451896",
   "metadata": {},
   "outputs": [],
   "source": [
    "data = get_input_text(6)\n",
    "data = [int(i) for i in data[0].split(\",\")]\n",
    "\n",
    "# Sample:\n",
    "# data = [3,4,3,1,2]"
   ]
  },
  {
   "cell_type": "code",
   "execution_count": 21,
   "id": "66827216",
   "metadata": {},
   "outputs": [
    {
     "data": {
      "text/plain": [
       "350149"
      ]
     },
     "execution_count": 21,
     "metadata": {},
     "output_type": "execute_result"
    }
   ],
   "source": [
    "# Q1 - brute force solution:\n",
    "\n",
    "n_days = 80\n",
    "fishes = data.copy()\n",
    "for day in range(n_days):\n",
    "    new_fish = list()\n",
    "    for i, fish in enumerate(fishes):\n",
    "        if fish == 0:\n",
    "            fishes[i] = 6\n",
    "            new_fish.append(8)\n",
    "        else:\n",
    "            fishes[i] = fish - 1\n",
    "    fishes += new_fish\n",
    "\n",
    "answer = len(fishes)\n",
    "answer"
   ]
  },
  {
   "cell_type": "code",
   "execution_count": 22,
   "id": "317a71e5",
   "metadata": {},
   "outputs": [
    {
     "data": {
      "text/plain": [
       "1590327954513"
      ]
     },
     "execution_count": 22,
     "metadata": {},
     "output_type": "execute_result"
    }
   ],
   "source": [
    "# Q2 recursive counter solution:\n",
    "\n",
    "def recursive_solution(counts: dict, n_days: int):\n",
    "    if n_days == 0:\n",
    "        return sum(counts.values())\n",
    "    next_day_counts = {i: 0 for i in range(9)}\n",
    "    for k, v in counts.items():\n",
    "        if k == 0:\n",
    "            next_day_counts[8] = v\n",
    "            next_day_counts[6] = next_day_counts.get(6, 0) + v\n",
    "        else:\n",
    "            next_day_counts[k - 1] = next_day_counts.get(k - 1, 0) + v\n",
    "    return recursive_solution(next_day_counts, n_days-1)\n",
    "\n",
    "\n",
    "from collections import Counter\n",
    "fishes = data.copy()\n",
    "counts = dict(Counter(fishes))\n",
    "recursive_solution(counts, 256)"
   ]
  },
  {
   "cell_type": "markdown",
   "id": "6546e37d",
   "metadata": {},
   "source": [
    "# Day 7"
   ]
  },
  {
   "cell_type": "code",
   "execution_count": 23,
   "id": "ef34d4a3",
   "metadata": {},
   "outputs": [],
   "source": [
    "data = get_input_text(7)\n",
    "data = [int(i) for i in data[0].split(\",\")]\n",
    "\n",
    "# Sample:\n",
    "# data = [16,1,2,0,4,2,7,1,2,14]"
   ]
  },
  {
   "cell_type": "code",
   "execution_count": 24,
   "id": "6afe3fe4",
   "metadata": {},
   "outputs": [
    {
     "data": {
      "text/plain": [
       "364898"
      ]
     },
     "execution_count": 24,
     "metadata": {},
     "output_type": "execute_result"
    }
   ],
   "source": [
    "# Q1 brute force solution:\n",
    "best_position, min_fuel = -1, float(\"inf\")\n",
    "for position in set(data):\n",
    "    fuel_cost = 0\n",
    "    for crab in data:\n",
    "        fuel_cost += abs(crab - position)\n",
    "    if fuel_cost < min_fuel:\n",
    "        min_fuel = fuel_cost\n",
    "        best_position = position\n",
    "        \n",
    "min_fuel"
   ]
  },
  {
   "cell_type": "code",
   "execution_count": 25,
   "id": "e97803d7",
   "metadata": {},
   "outputs": [
    {
     "data": {
      "text/plain": [
       "104149091"
      ]
     },
     "execution_count": 25,
     "metadata": {},
     "output_type": "execute_result"
    }
   ],
   "source": [
    "# Q2 triangle number solution:\n",
    "best_position, min_fuel = -1, float(\"inf\")\n",
    "for position in range(min(data), max(data) + 1):\n",
    "    fuel_cost = 0\n",
    "    for crab in [i for i in data if i != position]:\n",
    "        distance = abs(crab - position)\n",
    "        fuel_cost += (distance * (distance+ 1) / 2)\n",
    "    if fuel_cost < min_fuel:\n",
    "        min_fuel = int(fuel_cost)\n",
    "        best_position = position\n",
    "        \n",
    "min_fuel"
   ]
  },
  {
   "cell_type": "markdown",
   "id": "08ceb0f7",
   "metadata": {},
   "source": [
    "# Day 8"
   ]
  },
  {
   "cell_type": "code",
   "execution_count": 26,
   "id": "fb8b9b20",
   "metadata": {},
   "outputs": [],
   "source": [
    "data = get_input_text(8)\n",
    "# data = [int(i) for i in data[0].split(\",\")]\n",
    "\n",
    "# Sample:\n",
    "# data = [\n",
    "#     \"be cfbegad cbdgef fgaecd cgeb fdcge agebfd fecdb fabcd edb | fdgacbe cefdb cefbgd gcbe\",\n",
    "#     \"edbfga begcd cbg gc gcadebf fbgde acbgfd abcde gfcbed gfec | fcgedb cgb dgebacf gc\", \n",
    "#     \"fgaebd cg bdaec gdafb agbcfd gdcbef bgcad gfac gcb cdgabef | cg cg fdcagb cbg\",\n",
    "#     \"fbegcd cbd adcefb dageb afcb bc aefdc ecdab fgdeca fcdbega | efabcd cedba gadfec cb\",\n",
    "#     \"aecbfdg fbg gf bafeg dbefa fcge gcbea fcaegb dgceab fcbdga | gecf egdcabf bgf bfgea\",\n",
    "#     \"fgeab ca afcebg bdacfeg cfaedg gcfdb baec bfadeg bafgc acf | gebdcfa ecba ca fadegcb\",\n",
    "#     \"dbcfg fgd bdegcaf fgec aegbdf ecdfab fbedc dacgb gdcebf gf | cefg dcbef fcge gbcadfe\",\n",
    "#     \"bdfegc cbegaf gecbf dfcage bdacg ed bedf ced adcbefg gebcd | ed bcgafe cdgba cbgef\",\n",
    "#     \"egadfb cdbfeg cegd fecab cgb gbdefca cg fgcdab egfdb bfceg | gbdfcae bgc cg cgb\",\n",
    "#     \"gcafb gcf dcaebfg ecagb gf abcdeg gaef cafbge fdbac fegbdc | fgae cfgab fg bagce\",\n",
    "# ]\n",
    "\n",
    "input_values = [d.split(\" | \")[0] for d in data]\n",
    "output_values = [d.split(\" | \")[1] for d in data]"
   ]
  },
  {
   "cell_type": "code",
   "execution_count": 27,
   "id": "fac45379",
   "metadata": {},
   "outputs": [
    {
     "data": {
      "text/plain": [
       "318"
      ]
     },
     "execution_count": 27,
     "metadata": {},
     "output_type": "execute_result"
    }
   ],
   "source": [
    "# Q1:\n",
    "lengths = [2, 3, 4, 7]\n",
    "answer = 0\n",
    "for line in output_values:\n",
    "    answer += len(list(filter(lambda x: len(x) in lengths, line.split())))\n",
    "answer"
   ]
  },
  {
   "cell_type": "code",
   "execution_count": 28,
   "id": "ff505869",
   "metadata": {},
   "outputs": [
    {
     "data": {
      "text/plain": [
       "996280"
      ]
     },
     "execution_count": 28,
     "metadata": {},
     "output_type": "execute_result"
    }
   ],
   "source": [
    "def deduce_mapping(input_line):\n",
    "    nums = input_line.split()\n",
    "    mapping = {l: None for l in \"abcdefg\"}\n",
    "    \n",
    "    # The numbers we know in the input:\n",
    "    one = [l for l in nums if len(l) == 2][0]\n",
    "    four = [l for l in nums if len(l) == 4][0]\n",
    "    seven = [l for l in nums if len(l) == 3][0]\n",
    "    eight = [l for l in nums if len(l) == 7][0]\n",
    "    \n",
    "    # Subtracting one from seven gives us \"a\":\n",
    "    mapping[\"a\"] = \"\".join(set(seven) - set(one))\n",
    "    \n",
    "    # Determine 9:\n",
    "    # Only 0/6/9 have 1 line missing:\n",
    "    zero_six_nine = [n for n in nums if len(n) == 6]\n",
    "    # Subtract four plus \"a\" from eight to get e or g:\n",
    "    e_or_g = set(eight) - set(four + mapping[\"a\"])\n",
    "    # Only 9 won't have e and g:\n",
    "    nine = [n for n in zero_six_nine if len(list(set(n) & e_or_g)) == 1][0]\n",
    "\n",
    "    # Subtract nine from eight to get \"e\":\n",
    "    mapping[\"e\"] = \"\".join(set(eight) - set(nine))\n",
    "    \n",
    "    # Nine minus 4 gives us \"a\" and \"g\", and we already know \"a\":\n",
    "    a_and_g = set(nine) - set(four)\n",
    "    mapping[\"g\"] = \"\".join(a_and_g - {mapping[\"a\"]})\n",
    "    \n",
    "    # Intersection of one and zero/six will get us each:\n",
    "    zero_six = [n for n in zero_six_nine if n != nine]\n",
    "    zero = [n for n in zero_six if len(list(set(one) & set(n))) == 2][0]\n",
    "    six = [n for n in zero_six if n != zero][0]\n",
    "    \n",
    "    # Get \"c\" from eight minus six:\n",
    "    mapping[\"c\"] = \"\".join(set(eight) - set(six))\n",
    "    \n",
    "    # Get \"d\" from eight minus zero:\n",
    "    mapping[\"d\"] = \"\".join(set(eight) - set(zero))\n",
    "    \n",
    "    # Get \"b\" from four minus one minus \"d\":\n",
    "    mapping[\"b\"] = \"\".join(set(four) - set(one) - {mapping[\"d\"]})\n",
    "    \n",
    "    # \"f\" is last unused letter:\n",
    "    mapping[\"f\"] = \"\".join(set(\"abcdefg\") - set(mapping.values()))\n",
    "    \n",
    "    # Invert mapping to get true characters:\n",
    "    return {v: k for k, v in mapping.items()}\n",
    "\n",
    "\n",
    "true_numbers = {\n",
    "    \"abcefg\": 0, \"cf\": 1, \"acdeg\": 2, \"acdfg\": 3, \"bcdf\": 4, \n",
    "    \"abdfg\": 5, \"abdefg\": 6, \"acf\": 7, \"abcdefg\": 8, \"abcdfg\": 9\n",
    "}\n",
    "all_numbers = []\n",
    "for line in data:\n",
    "    input_line, output_line = line.split(\" | \")\n",
    "    mapping = deduce_mapping(input_line)\n",
    "    number = \"\"\n",
    "    for num in output_line.split():\n",
    "        digit = true_numbers[\"\".join(sorted([mapping[l] for l in num]))]\n",
    "        number += str(digit)\n",
    "    all_numbers.append(int(number))\n",
    "\n",
    "answer = sum(all_numbers)\n",
    "answer"
   ]
  },
  {
   "cell_type": "markdown",
   "id": "2c92ab01",
   "metadata": {},
   "source": [
    "# Day 9"
   ]
  },
  {
   "cell_type": "code",
   "execution_count": 71,
   "id": "fe23104e",
   "metadata": {},
   "outputs": [],
   "source": [
    "data = get_input_text(9)\n",
    "\n",
    "# Sample:\n",
    "data = [\n",
    "    \"2199943210\",\n",
    "    \"3987894921\",\n",
    "    \"9856789892\",\n",
    "    \"8767896789\",\n",
    "    \"9899965678\",\n",
    "]"
   ]
  },
  {
   "cell_type": "code",
   "execution_count": 72,
   "id": "c0aa3e59",
   "metadata": {},
   "outputs": [
    {
     "data": {
      "text/plain": [
       "15"
      ]
     },
     "execution_count": 72,
     "metadata": {},
     "output_type": "execute_result"
    }
   ],
   "source": [
    "# Q1 - brute force solution:\n",
    "height_map = [[int(i) for i in row] for row in data]\n",
    "\n",
    "lows = list()\n",
    "n_rows = len(height_map)\n",
    "n_cols = len(height_map[0])\n",
    "for r_ix, row in enumerate(height_map):\n",
    "    for c_ix, v in enumerate(row):\n",
    "        adjacent = list()\n",
    "        # Above:\n",
    "        if r_ix > 0:\n",
    "            adjacent.append(height_map[r_ix-1][c_ix])\n",
    "        # Left:\n",
    "        if c_ix > 0:\n",
    "            adjacent.append(height_map[r_ix][c_ix-1])\n",
    "        # Right:\n",
    "        if c_ix < n_cols - 1:\n",
    "            adjacent.append(height_map[r_ix][c_ix+1])\n",
    "        # Below:\n",
    "        if r_ix < n_rows - 1:\n",
    "            adjacent.append(height_map[r_ix+1][c_ix])\n",
    "        if all([i > v for i in adjacent]):\n",
    "            lows.append((r_ix, c_ix, v))\n",
    "\n",
    "answer = sum([l[2]+1 for l in lows])\n",
    "answer"
   ]
  },
  {
   "cell_type": "code",
   "execution_count": null,
   "id": "f9c6665e",
   "metadata": {},
   "outputs": [],
   "source": [
    "# Q2 recursive basin expansion:\n",
    "\n",
    "def get_adjacent(row_ix: int, col_ix: int):\n",
    "    \"\"\"Return indices and values of all adjacent neighbors.\"\"\"\n",
    "    adjacent = list()\n",
    "    if row_ix > 0:\n",
    "        adjacent.append((row_ix-1, col_ix, height_map[row_ix-1][col_ix]))\n",
    "    # Left:\n",
    "    if col_ix > 0:\n",
    "        adjacent.append((row_ix, col_ix-1, height_map[row_ix][col_ix-1]))\n",
    "    # Right:\n",
    "    if col_ix < n_cols - 1:\n",
    "        adjacent.append((row_ix, col_ix+1, height_map[row_ix][col_ix+1]))\n",
    "    # Below:\n",
    "    if row_ix < n_rows - 1:\n",
    "        adjacent.append((row_ix+1, col_ix, height_map[row_ix+1][col_ix]))\n",
    "    return adjacent\n",
    "\n",
    "\n",
    "def get_basin(row_ix: int, col_ix: int, low: int, basin: set, checked: set):\n",
    "    neighbors = get_adjacent(row_ix, col_ix)\n",
    "    neighbors_in_basin = [i for i in neighbors if (i[2] != 9) and (i[2] >= low)]\n",
    "    basin = basin | set(neighbors_in_basin)\n",
    "    checked = checked | {(row_ix, col_ix, low)}\n",
    "    to_check = set(neighbors_in_basin) - checked\n",
    "    if not to_check:\n",
    "        return basin\n",
    "    else:\n",
    "        for r, c, _ in to_check:\n",
    "            return get_basin(r, c, low, basin, checked)\n",
    "#     return basin, to_check\n",
    "\n",
    "get_basin(*lows[0], {lows[0]}, {lows[0]})\n",
    "#NOT FINISHED"
   ]
  },
  {
   "cell_type": "code",
   "execution_count": 75,
   "id": "72260d75",
   "metadata": {},
   "outputs": [
    {
     "data": {
      "text/plain": [
       "[(0, 1, 1), (0, 9, 0), (2, 2, 5), (4, 6, 5)]"
      ]
     },
     "execution_count": 75,
     "metadata": {},
     "output_type": "execute_result"
    }
   ],
   "source": [
    "lows"
   ]
  },
  {
   "cell_type": "code",
   "execution_count": null,
   "id": "0b537e37",
   "metadata": {},
   "outputs": [],
   "source": []
  }
 ],
 "metadata": {
  "kernelspec": {
   "display_name": "Python 3 (ipykernel)",
   "language": "python",
   "name": "python3"
  },
  "language_info": {
   "codemirror_mode": {
    "name": "ipython",
    "version": 3
   },
   "file_extension": ".py",
   "mimetype": "text/x-python",
   "name": "python",
   "nbconvert_exporter": "python",
   "pygments_lexer": "ipython3",
   "version": "3.9.5"
  }
 },
 "nbformat": 4,
 "nbformat_minor": 5
}
