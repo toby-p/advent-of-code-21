{
 "cells": [
  {
   "cell_type": "code",
   "execution_count": 1,
   "id": "9ca46170",
   "metadata": {},
   "outputs": [],
   "source": [
    "\n",
    "import os\n",
    "import pandas as pd\n",
    "\n",
    "\n",
    "def get_input_csv(day: int):\n",
    "    fp = os.path.join(os.getcwd(), \"inputs\", f\"day{day}.csv\")\n",
    "    return pd.read_csv(fp, encoding=\"utf-8\", header=None).rename(columns={0: \"data\"})\n"
   ]
  },
  {
   "cell_type": "markdown",
   "id": "dde0a07b",
   "metadata": {},
   "source": [
    "## Day 1"
   ]
  },
  {
   "cell_type": "code",
   "execution_count": 2,
   "id": "29309ebf",
   "metadata": {},
   "outputs": [
    {
     "data": {
      "text/plain": [
       "[151, 152, 153, 158, 159, 163, 164, 162, 161, 167]"
      ]
     },
     "execution_count": 2,
     "metadata": {},
     "output_type": "execute_result"
    }
   ],
   "source": [
    "# Input:\n",
    "data = get_input_csv(1)\n",
    "data = list(data[\"data\"].values)\n",
    "data[:10]"
   ]
  },
  {
   "cell_type": "code",
   "execution_count": 3,
   "id": "319f210d",
   "metadata": {},
   "outputs": [
    {
     "data": {
      "text/plain": [
       "1564"
      ]
     },
     "execution_count": 3,
     "metadata": {},
     "output_type": "execute_result"
    }
   ],
   "source": [
    "# Q1 solution:\n",
    "answer = len(list(filter(lambda x: x[1] > data[x[0]], list(enumerate(data[1:])))))\n",
    "answer"
   ]
  },
  {
   "cell_type": "code",
   "execution_count": 4,
   "id": "9e3ece30",
   "metadata": {},
   "outputs": [
    {
     "data": {
      "text/plain": [
       "1611"
      ]
     },
     "execution_count": 4,
     "metadata": {},
     "output_type": "execute_result"
    }
   ],
   "source": [
    "# Q2 solution:\n",
    "answer = len(list(filter(lambda ix: sum(data[ix-3: ix]) < sum(data[ix-2: ix+1]), range(3, len(data), 1))))\n",
    "answer"
   ]
  },
  {
   "cell_type": "markdown",
   "id": "aa17c057",
   "metadata": {},
   "source": [
    "## Day 2"
   ]
  },
  {
   "cell_type": "code",
   "execution_count": 5,
   "id": "ed4ca2fb",
   "metadata": {},
   "outputs": [
    {
     "data": {
      "text/plain": [
       "['forward 3',\n",
       " 'down 6',\n",
       " 'forward 7',\n",
       " 'down 4',\n",
       " 'down 8',\n",
       " 'down 6',\n",
       " 'down 4',\n",
       " 'down 6',\n",
       " 'forward 7',\n",
       " 'down 5']"
      ]
     },
     "execution_count": 5,
     "metadata": {},
     "output_type": "execute_result"
    }
   ],
   "source": [
    "# Input:\n",
    "data = get_input_csv(2)\n",
    "data = list(data[\"data\"].values)\n",
    "data[:10]"
   ]
  },
  {
   "cell_type": "code",
   "execution_count": 6,
   "id": "30b62fd6",
   "metadata": {},
   "outputs": [
    {
     "data": {
      "text/plain": [
       "1924923"
      ]
     },
     "execution_count": 6,
     "metadata": {},
     "output_type": "execute_result"
    }
   ],
   "source": [
    "# Q1 solution - needlessly compact 3 liner:\n",
    "h, d = 0, 0\n",
    "[exec({\"f\": \"global h;h= h+int(i)\", \"d\": \"global d;d+=int(i)\", \"u\": \"global d;d-=int(i)\"}[dr[0]]) for dr, i in map(str.split, data)]\n",
    "answer = h*d\n",
    "answer"
   ]
  },
  {
   "cell_type": "code",
   "execution_count": 7,
   "id": "f8294279",
   "metadata": {},
   "outputs": [
    {
     "data": {
      "text/plain": [
       "1924923"
      ]
     },
     "execution_count": 7,
     "metadata": {},
     "output_type": "execute_result"
    }
   ],
   "source": [
    "# Q1 solution - slightly less needlessly compact 4 liner:\n",
    "h, d = 0, 0\n",
    "for dct in [{\"f\": {\"h\": int(i)}, \"d\": {\"d\": int(i)}, \"u\": {\"d\": -int(i)}}[s[0]] for s, i in map(str.split, data)]:\n",
    "    h += dct.get(\"h\", 0)\n",
    "    d += dct.get(\"d\", 0)\n",
    "answer = h*d\n",
    "answer"
   ]
  },
  {
   "cell_type": "code",
   "execution_count": 8,
   "id": "a9cbf510",
   "metadata": {},
   "outputs": [
    {
     "data": {
      "text/plain": [
       "1924923"
      ]
     },
     "execution_count": 8,
     "metadata": {},
     "output_type": "execute_result"
    }
   ],
   "source": [
    "# Q1 solution - reduce:\n",
    "from functools import reduce\n",
    "\n",
    "iterable = [{\"f\": {\"h\": int(i)}, \"d\": {\"d\": int(i)}, \"u\": {\"d\": -int(i)}}[s[0]] for s, i in map(str.split, data)]\n",
    "d = reduce(lambda x, y: x + y.get(\"d\", 0), iterable, 0)\n",
    "h = reduce(lambda x, y: x + y.get(\"h\", 0), iterable, 0)\n",
    "answer = h*d\n",
    "answer"
   ]
  },
  {
   "cell_type": "code",
   "execution_count": 9,
   "id": "9a4d6274",
   "metadata": {},
   "outputs": [
    {
     "data": {
      "text/plain": [
       "1924923"
      ]
     },
     "execution_count": 9,
     "metadata": {},
     "output_type": "execute_result"
    }
   ],
   "source": [
    "# Q1 solution - recursion:\n",
    "def recursion(seq, h=0, d=0):\n",
    "    if len(seq):\n",
    "        s, i = seq[0].split()\n",
    "        dct = {\"f\": {\"h\": int(i)}, \"d\": {\"d\": int(i)}, \"u\": {\"d\": -int(i)}}[s[0]]\n",
    "        h += dct.get(\"h\", 0)\n",
    "        d += dct.get(\"d\", 0)\n",
    "        return recursion(seq[1:], h, d)\n",
    "    else:\n",
    "        return h * d\n",
    "        \n",
    "        \n",
    "answer = recursion(data)\n",
    "answer"
   ]
  },
  {
   "cell_type": "code",
   "execution_count": 10,
   "id": "8015416f",
   "metadata": {},
   "outputs": [
    {
     "data": {
      "text/plain": [
       "1982495697"
      ]
     },
     "execution_count": 10,
     "metadata": {},
     "output_type": "execute_result"
    }
   ],
   "source": [
    "# Q2 solution - basic brute force:\n",
    "h, d, a = 0, 0, 0\n",
    "for s, i in map(str.split, data):\n",
    "    if s[0] == \"f\":\n",
    "        h += int(i)\n",
    "        d += a*int(i)\n",
    "    elif s[0] == \"d\":\n",
    "        a += int(i)\n",
    "    elif s[0] == \"u\":\n",
    "        a -= int(i)\n",
    "\n",
    "answer = h*d\n",
    "answer"
   ]
  },
  {
   "cell_type": "code",
   "execution_count": null,
   "id": "5050d35d",
   "metadata": {},
   "outputs": [],
   "source": []
  }
 ],
 "metadata": {
  "kernelspec": {
   "display_name": "Python 3 (ipykernel)",
   "language": "python",
   "name": "python3"
  },
  "language_info": {
   "codemirror_mode": {
    "name": "ipython",
    "version": 3
   },
   "file_extension": ".py",
   "mimetype": "text/x-python",
   "name": "python",
   "nbconvert_exporter": "python",
   "pygments_lexer": "ipython3",
   "version": "3.9.2"
  }
 },
 "nbformat": 4,
 "nbformat_minor": 5
}
