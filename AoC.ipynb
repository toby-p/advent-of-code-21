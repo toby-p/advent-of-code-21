{
 "cells": [
  {
   "cell_type": "code",
   "execution_count": 1,
   "id": "9ca46170",
   "metadata": {},
   "outputs": [],
   "source": [
    "\n",
    "import os\n",
    "import pandas as pd\n",
    "\n",
    "\n",
    "def get_input_csv(day: int):\n",
    "    fp = os.path.join(os.getcwd(), \"inputs\", f\"day{day}.csv\")\n",
    "    return pd.read_csv(fp, encoding=\"utf-8\", header=None).rename(columns={0: \"data\"})\n"
   ]
  },
  {
   "cell_type": "markdown",
   "id": "dde0a07b",
   "metadata": {},
   "source": [
    "## Day 1"
   ]
  },
  {
   "cell_type": "code",
   "execution_count": 2,
   "id": "29309ebf",
   "metadata": {},
   "outputs": [
    {
     "data": {
      "text/plain": [
       "1564"
      ]
     },
     "execution_count": 2,
     "metadata": {},
     "output_type": "execute_result"
    }
   ],
   "source": [
    "# Input:\n",
    "data = get_input_csv(1)\n",
    "data = list(data[\"data\"].values)\n",
    "\n",
    "# Q1 solution:\n",
    "answer = len(list(filter(lambda x: x[1] > data[x[0]], list(enumerate(data[1:])))))\n",
    "answer"
   ]
  },
  {
   "cell_type": "code",
   "execution_count": 3,
   "id": "9e3ece30",
   "metadata": {},
   "outputs": [
    {
     "data": {
      "text/plain": [
       "1611"
      ]
     },
     "execution_count": 3,
     "metadata": {},
     "output_type": "execute_result"
    }
   ],
   "source": [
    "# Q2 solution:\n",
    "answer = len(list(filter(lambda ix: sum(data[ix-3: ix]) < sum(data[ix-2: ix+1]), range(3, len(data), 1))))\n",
    "answer"
   ]
  },
  {
   "cell_type": "code",
   "execution_count": null,
   "id": "ee99e18b",
   "metadata": {},
   "outputs": [],
   "source": []
  }
 ],
 "metadata": {
  "kernelspec": {
   "display_name": "Python 3 (ipykernel)",
   "language": "python",
   "name": "python3"
  },
  "language_info": {
   "codemirror_mode": {
    "name": "ipython",
    "version": 3
   },
   "file_extension": ".py",
   "mimetype": "text/x-python",
   "name": "python",
   "nbconvert_exporter": "python",
   "pygments_lexer": "ipython3",
   "version": "3.9.5"
  }
 },
 "nbformat": 4,
 "nbformat_minor": 5
}
